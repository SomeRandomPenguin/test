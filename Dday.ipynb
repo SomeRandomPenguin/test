{
  "nbformat": 4,
  "nbformat_minor": 0,
  "metadata": {
    "colab": {
      "name": "Dday.ipynb",
      "provenance": [],
      "authorship_tag": "ABX9TyPCJXzo+Dewk7cZ6jIVWE72",
      "include_colab_link": true
    },
    "kernelspec": {
      "name": "python3",
      "display_name": "Python 3"
    },
    "language_info": {
      "name": "python"
    }
  },
  "cells": [
    {
      "cell_type": "markdown",
      "metadata": {
        "id": "view-in-github",
        "colab_type": "text"
      },
      "source": [
        "<a href=\"https://colab.research.google.com/github/SomeRandomPenguin/test/blob/main/Dday.ipynb\" target=\"_parent\"><img src=\"https://colab.research.google.com/assets/colab-badge.svg\" alt=\"Open In Colab\"/></a>"
      ]
    },
    {
      "cell_type": "code",
      "metadata": {
        "id": "zN8f79Eix7Lp"
      },
      "source": [
        "import datetime as dt"
      ],
      "execution_count": null,
      "outputs": []
    },
    {
      "cell_type": "code",
      "metadata": {
        "id": "UCA6zAi7yD1g"
      },
      "source": [
        "print(\"Penguin's date calculator\")\n",
        "print(\"-----------------------------\")\n",
        "print('This will calculate how much you have to wait for a certain day')\n",
        "print(\"-----------------------------\")\n",
        "wht = input('Do you want to set a certain beginning date? y/n ')\n",
        "if wht == 'y' or 'Y':\n",
        "  print(\"-----------------------------\")\n",
        "  d1 = input('Enter the first date (YYYY-MM-DD): ')\n",
        "  d11 = dt.datetime.strptime(d1, '%Y-%m-%d')\n",
        "elif wht == 'N' or 'n':\n",
        "  d11 = dt.datetime.now()\n",
        "print(\"-----------------------------\")\n",
        "d2 = input('Enter the second date (YYYY-MM-DD): ')\n",
        "d22 = dt.datetime.strptime(d2, '%Y-%m-%d')\n",
        "\n",
        "dd = d22 - d11\n",
        "ddd = dd.days\n",
        "print(\"-----------------------------\")\n",
        "if ddd == 0:\n",
        "  print('It is the same day lol')\n",
        "elif ddd < 0:\n",
        "  dddd = ddd*-1\n",
        "  print(d2, 'is',dddd,'days before',d1)\n",
        "else:\n",
        "  print(d2, 'is',ddd,'days after',d1)"
      ],
      "execution_count": null,
      "outputs": []
    },
    {
      "cell_type": "code",
      "metadata": {
        "id": "gS59l-931dgu"
      },
      "source": [
        ""
      ],
      "execution_count": null,
      "outputs": []
    }
  ]
}